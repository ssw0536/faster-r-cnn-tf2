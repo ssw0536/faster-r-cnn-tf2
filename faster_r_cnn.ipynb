{
 "cells": [
  {
   "cell_type": "code",
   "execution_count": null,
   "source": [
    "import numpy as np\n",
    "import tensorflow as tf\n",
    "import matplotlib.pyplot as plt\n",
    "\n",
    "from config.config import Config\n",
    "from src.data_generator import VOCData\n",
    "from src.visualize import draw_box\n",
    "from src.model import get_rcnn_target, generate_anchors, unparameterize_box, box_iou\n",
    "\n",
    "# increase image resolution for jupyter notebook\n",
    "import matplotlib as mpl\n",
    "mpl.rcParams['figure.dpi'] = 150\n",
    "\n",
    "\n",
    "# load config\n",
    "config = Config()\n",
    "config.BATCH_SIZE = 1\n",
    "\n",
    "# load dataset\n",
    "test_data_dir = 'dataset/VOC2007/trainval/VOCdevkit/VOC2007'\n",
    "test_dataset = VOCData(test_data_dir,\n",
    "                        config.INPUT_SHAPE,\n",
    "                        batch_size=config.BATCH_SIZE,\n",
    "                        max_gt_instance=config.MAX_GT_INSTANCE,\n",
    "                        debug=True)\n",
    "\n",
    "# saved model dir\n",
    "model_dir = 'model/20210817-054509'\n",
    "model = tf.keras.models.load_model(model_dir)"
   ],
   "outputs": [],
   "metadata": {}
  },
  {
   "cell_type": "code",
   "execution_count": null,
   "source": [
    "# get result from the network\n",
    "test_dataset.shuffle()\n",
    "img_batch, (gt_cls_ids, gt_boxes, num_gt_instance) = test_dataset[0]\n",
    "outputs = model(img_batch, training=False)\n",
    "\n",
    "# unpack outputs\n",
    "rpn_cls_output = outputs[0]  # [B, A, 2]\n",
    "rpn_reg_output = outputs[1]  # [B, A, 4]\n",
    "rcnn_cls_output = outputs[2]  # [B*N, 21]\n",
    "rcnn_reg_output = outputs[3]  # [B*N, 20*4]\n",
    "roi_boxes = outputs[4]  # [B*N, 4]\n",
    "valid_num = outputs[5]  # [B]"
   ],
   "outputs": [],
   "metadata": {}
  },
  {
   "cell_type": "code",
   "execution_count": null,
   "source": [
    "top_k_rois = roi_boxes[:100]\n",
    "\n",
    "gt_box_img = test_dataset.draw_label_img(\n",
    "    img_batch[0],\n",
    "    gt_cls_ids[0][:num_gt_instance[0]],\n",
    "    gt_boxes[0][:num_gt_instance[0]])\n"
   ],
   "outputs": [],
   "metadata": {}
  },
  {
   "cell_type": "code",
   "execution_count": null,
   "source": [
    "# visualize rcnn targets\n",
    "targets = get_rcnn_target(roi_boxes,\n",
    "                          gt_boxes[0][:num_gt_instance[0]],\n",
    "                          gt_cls_ids[0][:num_gt_instance[0]],\n",
    "                          valid_num[0],\n",
    "                          pos_threshold=config.RCNN_POS_IOU_THOLD,\n",
    "                          neg_threshold=config.RCNN_NEG_IOU_THOLD,\n",
    "                          total_sample_num=config.RCNN_TOTAL_SAMPLE_NUM,\n",
    "                          pos_sample_ratio=config.RCNN_POS_SAMPLE_RATIO)\n",
    "\n",
    "# unpack outputs\n",
    "rpn_cls_target = targets[0]\n",
    "rpn_reg_target = targets[1]\n",
    "rpn_train_indices = targets[2]\n",
    "rpn_valid_train_num = targets[3]\n",
    "rpn_sampled_pos_num = targets[4]"
   ],
   "outputs": [],
   "metadata": {}
  }
 ],
 "metadata": {
  "orig_nbformat": 4,
  "language_info": {
   "name": "python",
   "version": "3.6.9",
   "mimetype": "text/x-python",
   "codemirror_mode": {
    "name": "ipython",
    "version": 3
   },
   "pygments_lexer": "ipython3",
   "nbconvert_exporter": "python",
   "file_extension": ".py"
  },
  "kernelspec": {
   "name": "python3",
   "display_name": "Python 3.6.9 64-bit"
  },
  "interpreter": {
   "hash": "31f2aee4e71d21fbe5cf8b01ff0e069b9275f58929596ceb00d14d90e3e16cd6"
  }
 },
 "nbformat": 4,
 "nbformat_minor": 2
}